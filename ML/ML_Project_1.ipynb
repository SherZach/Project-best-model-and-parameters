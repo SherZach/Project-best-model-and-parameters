{
 "metadata": {
  "language_info": {
   "codemirror_mode": {
    "name": "ipython",
    "version": 3
   },
   "file_extension": ".py",
   "mimetype": "text/x-python",
   "name": "python",
   "nbconvert_exporter": "python",
   "pygments_lexer": "ipython3",
   "version": "3.8.5-final"
  },
  "orig_nbformat": 2,
  "kernelspec": {
   "name": "python_defaultSpec_1599682722814",
   "display_name": "Python 3.8.5 32-bit"
  }
 },
 "nbformat": 4,
 "nbformat_minor": 2,
 "cells": [
  {
   "cell_type": "markdown",
   "metadata": {},
   "source": [
    "Part 1: Get the wine dataset\n",
    "\n",
    "*Describe data set"
   ]
  },
  {
   "cell_type": "code",
   "execution_count": 155,
   "metadata": {
    "tags": []
   },
   "outputs": [
    {
     "output_type": "stream",
     "name": "stdout",
     "text": "Total rows:  177\n[ 96  40 140 154  24 169  76 139  39 102   1  53  85 155  11  86 120 158\n  41  83 169  54  45  90 133  35  63  69  74 153 172 150  26  38 165 171\n   5 153 132  97  16 145  42   5  49  11  16 164 116  17  98 125 140  80\n  70  92  52  15  31  80  31 176 116  12  14  80  98  65  11   7  35  78\n  38  23  79 126 137  76  47  96  20  66 171  46   5  56 100  68   9 104\n  24   3 165 112  15 176  85 172 120   7  27 138  92  14  39  39 123   0\n  58  61 147  56 158 174 125  75  83  96 127  71  56  34  15  36 122  44\n  92 161 105  21 152  55  58 163 170  97 154 107  43  28 141]\nTraining set rows:  141\nTest set rows:  77\n"
    }
   ],
   "source": [
    "# Split data into training and test set\n",
    "import numpy as np\n",
    "import pandas as pd\n",
    "\n",
    "df = pd.read_csv('wine\\wine.csv')\n",
    "print(\"Total rows: \", len(df))\n",
    "# print(df)\n",
    "\n",
    "# wine = np.array(df)\n",
    "# print(wine)\n",
    "\n",
    "train_idxs = np.random.choice(range(len(df)), size=int(0.8*len(df)))\n",
    "print(train_idxs)\n",
    "train = df.iloc[train_idxs]\n",
    "print(\"Training set rows: \",len(train))\n",
    "\n",
    "test_idxs = np.full(len(df), True)\n",
    "test_idxs[train_idxs] = False\n",
    "test = df.iloc[test_idxs]\n",
    "print(\"Test set rows: \",len(test))\n",
    "\n",
    "train.to_csv('wine-train.csv')\n",
    "test.to_csv('wine-test.csv')\n"
   ]
  },
  {
   "cell_type": "code",
   "execution_count": 156,
   "metadata": {
    "tags": []
   },
   "outputs": [
    {
     "output_type": "stream",
     "name": "stdout",
     "text": "[1 1 1 1 1 1 1 1 1 1 1 1 1 1 1 1 1 1 1 2 2 2 2 2 2 2 2 2 2 2 2 2 2 2 2 2 2\n 2 2 2 2 2 2 2 2 2 2 2 2 2 2 2 2 2 3 3 3 3 3 3 3 3 3 3 3 3 3 3 3 3 3 3 3 3\n 3 3 3]\nCounter({2: 35, 3: 23, 1: 19})\nCounter({1.0: 40, 2.0: 38, 3.0: 27})\n"
    }
   ],
   "source": [
    "# Split training data into training and cross validation sets\n",
    "from sklearn.model_selection import train_test_split\n",
    "from collections import Counter\n",
    "\n",
    "df_train = pd.read_csv('wine-train.csv')\n",
    "train = np.array(df_train, dtype=float)\n",
    "\n",
    "train, valid = train_test_split(train, shuffle=True)\n",
    "\n",
    "# Split test and validation data into X and Y (inputs and labels)\n",
    "train_y, train_X, valid_y, valid_X = train[:, 1], train[:, 2 : ], valid[:, 1], valid[:, 2 : ] # The labels are in column number 2, the Xs are column 3 onwards\n",
    "\n",
    "# Split test data into X and Y (inputs and labels)\n",
    "test = np.array(pd.read_csv('wine-test.csv'))\n",
    "test_y, test_X = test[:, 1], test[:, 2 : ]\n",
    "test_y = np.array(test_y, int)\n",
    "print(test_y)\n",
    "# Look at the balance of classes to make sure that evaluating models on just their accuracy is okay\n",
    "print(Counter(test_y))\n",
    "print(Counter(train_y))\n"
   ]
  },
  {
   "cell_type": "markdown",
   "metadata": {},
   "source": [
    "Part 2: Fit models to the wine dataset and test performance\n",
    "\n",
    "Using a classification tree on the model. Evaluate the model's performance by comparing its predicted labels with the test labels using accuracy (the fraction of the predictions that were correct).\n"
   ]
  },
  {
   "cell_type": "code",
   "execution_count": 157,
   "metadata": {
    "tags": []
   },
   "outputs": [
    {
     "output_type": "stream",
     "name": "stdout",
     "text": "1.0\n1.0\n"
    }
   ],
   "source": [
    "# run a classification tree on the dataset\n",
    "from sklearn.tree import DecisionTreeClassifier\n",
    "from sklearn.metrics import mean_squared_error\n",
    "from sklearn.metrics import accuracy_score\n",
    "\n",
    "tree = DecisionTreeClassifier()\n",
    "tree.fit(test_X, test_y)\n",
    "\n",
    "# Evaluate performance on cross validation set\n",
    "pred_y = tree.predict(valid_X)\n",
    "print(accuracy_score(valid_y, pred_y))\n",
    "\n",
    "# Evaluate performance by comparing with test data\n",
    "pred_y = tree.predict(test_X)\n",
    "print(accuracy_score(test_y, pred_y))\n"
   ]
  },
  {
   "cell_type": "markdown",
   "metadata": {},
   "source": [
    "Part 3: Ensembling to improve performance\n",
    "\n",
    "Ensemble the classification tree model used above buy using random forests. Evaluate model by looking at its accuracy. "
   ]
  },
  {
   "cell_type": "code",
   "execution_count": 158,
   "metadata": {
    "tags": []
   },
   "outputs": [
    {
     "output_type": "stream",
     "name": "stdout",
     "text": "0.961038961038961\n"
    }
   ],
   "source": [
    "from sklearn.ensemble import RandomForestClassifier\n",
    "\n",
    "randomForest = RandomForestClassifier(n_estimators=100, max_depth=2, max_samples=10)\n",
    "randomForest.fit(train_X, train_y) # fit random forest of decision trees\n",
    "\n",
    "# Evaluate the ensemble's performance\n",
    "score = randomForest.score(test_X, test_y) # use the model's score method to compute it's accuracy\n",
    "print(score)\n",
    "\n"
   ]
  },
  {
   "cell_type": "markdown",
   "metadata": {},
   "source": [
    "Part 4: Finding the best models and hyperparameters\n",
    "\n",
    "We have used the following models for supervised learning classification problems so far: Logistic Regression, RandomForests, Support Vector Machines, and K nearest-neighbours. Using sklearn's VotingClassifier, we can ensemble different models and using sklearn's accuracy_score, we can compare the accuracies to find the best single model, or ensemble of models. "
   ]
  },
  {
   "cell_type": "code",
   "execution_count": 161,
   "metadata": {
    "tags": []
   },
   "outputs": [
    {
     "output_type": "stream",
     "name": "stdout",
     "text": "The best parameters have been found for RandomForestClassifier with an accuracy of 1.0 on the cross validation data, with parameters: {'bootstrap': True, 'ccp_alpha': 0.0, 'class_weight': None, 'criterion': 'gini', 'max_depth': 4, 'max_features': 'auto', 'max_leaf_nodes': None, 'max_samples': 3, 'min_impurity_decrease': 0.0, 'min_impurity_split': None, 'min_samples_leaf': 1, 'min_samples_split': 2, 'min_weight_fraction_leaf': 0.0, 'n_estimators': 100, 'n_jobs': None, 'oob_score': False, 'random_state': None, 'verbose': 0, 'warm_start': False} \n\nThe best parameters have been found for LogisticRegression with an accuracy of 0.9166666666666666 on the cross validation data, with parameters: {'C': 0.8565666086900728, 'class_weight': None, 'dual': False, 'fit_intercept': True, 'intercept_scaling': 1, 'l1_ratio': None, 'max_iter': 100, 'multi_class': 'auto', 'n_jobs': None, 'penalty': 'l2', 'random_state': None, 'solver': 'lbfgs', 'tol': 0.0001, 'verbose': 0, 'warm_start': False} \n\nThe best parameters have been found for SVC with an accuracy of 0.8888888888888888 on the cross validation data, with parameters: {'C': 0.7762124306157664, 'break_ties': False, 'cache_size': 200, 'class_weight': None, 'coef0': 0.0, 'decision_function_shape': 'ovr', 'degree': 3, 'gamma': 0.00952918832077863, 'kernel': 'rbf', 'max_iter': -1, 'probability': False, 'random_state': None, 'shrinking': True, 'tol': 0.001, 'verbose': False} \n\nThe best parameters have been found for KNeighborsClassifier with an accuracy of 0.8611111111111112 on the cross validation data, with parameters: {'algorithm': 'auto', 'leaf_size': 30, 'metric': 'minkowski', 'metric_params': None, 'n_jobs': None, 'n_neighbors': 5, 'p': 2, 'weights': 'uniform'} \n\nThe best parameters have been found for VotingClassifier with an accuracy of 1.0 on the cross validation data, with parameters: {'estimators': (('rf', RandomForestClassifier(max_depth=4, max_samples=3)), ('lr', LogisticRegression(C=0.8565666086900728)), ('Knear', KNeighborsClassifier())), 'flatten_transform': True, 'n_jobs': None, 'verbose': False, 'voting': 'hard', 'weights': None, 'rf': RandomForestClassifier(max_depth=4, max_samples=3), 'lr': LogisticRegression(C=0.8565666086900728), 'Knear': KNeighborsClassifier(), 'rf__bootstrap': True, 'rf__ccp_alpha': 0.0, 'rf__class_weight': None, 'rf__criterion': 'gini', 'rf__max_depth': 4, 'rf__max_features': 'auto', 'rf__max_leaf_nodes': None, 'rf__max_samples': 3, 'rf__min_impurity_decrease': 0.0, 'rf__min_impurity_split': None, 'rf__min_samples_leaf': 1, 'rf__min_samples_split': 2, 'rf__min_weight_fraction_leaf': 0.0, 'rf__n_estimators': 100, 'rf__n_jobs': None, 'rf__oob_score': False, 'rf__random_state': None, 'rf__verbose': 0, 'rf__warm_start': False, 'lr__C': 0.8565666086900728, 'lr__class_weight': None, 'lr__dual': False, 'lr__fit_intercept': True, 'lr__intercept_scaling': 1, 'lr__l1_ratio': None, 'lr__max_iter': 100, 'lr__multi_class': 'auto', 'lr__n_jobs': None, 'lr__penalty': 'l2', 'lr__random_state': None, 'lr__solver': 'lbfgs', 'lr__tol': 0.0001, 'lr__verbose': 0, 'lr__warm_start': False, 'Knear__algorithm': 'auto', 'Knear__leaf_size': 30, 'Knear__metric': 'minkowski', 'Knear__metric_params': None, 'Knear__n_jobs': None, 'Knear__n_neighbors': 5, 'Knear__p': 2, 'Knear__weights': 'uniform'} \n\nOn the training data, model RandomForestClassifier has an accuracy of: 0.8961038961038961\nOn the training data, model LogisticRegression has an accuracy of: 0.935064935064935\nOn the training data, model SVC has an accuracy of: 0.5584415584415584\nOn the training data, model KNeighborsClassifier has an accuracy of: 0.7012987012987013\nOn the training data, model VotingClassifier has an accuracy of: 0.8961038961038961\n\nTherefore, the best model was LogisticRegression with an accuracy of 0.935064935064935\n\nThis model has the following parameters: {'C': 0.8565666086900728, 'class_weight': None, 'dual': False, 'fit_intercept': True, 'intercept_scaling': 1, 'l1_ratio': None, 'max_iter': 100, 'multi_class': 'auto', 'n_jobs': None, 'penalty': 'l2', 'random_state': None, 'solver': 'lbfgs', 'tol': 0.0001, 'verbose': 0, 'warm_start': False}\n"
    }
   ],
   "source": [
    "from sklearn.model_selection import train_test_split\n",
    "from sklearn.ensemble import RandomForestClassifier\n",
    "from sklearn.ensemble import VotingClassifier\n",
    "from sklearn.linear_model import LogisticRegression\n",
    "from sklearn.svm import SVC\n",
    "from sklearn.neighbors import KNeighborsClassifier\n",
    "from sklearn.metrics import accuracy_score\n",
    "from numpy import random\n",
    "import itertools\n",
    "\n",
    "\n",
    "def update_best_model(model, train_X, train_y, test_X, test_y, best_accuracy, best_model):\n",
    "    # A function to see if this current model gives a better accuracy than any previous models, and then to update the new best model\n",
    "    model.fit(train_X, train_y)\n",
    "    pred_y = model.predict(test_X)\n",
    "    accuracy = accuracy_score(test_y, pred_y) # If this accuracy is highest so far, then update the best model with this model\n",
    "    if accuracy > best_accuracy:\n",
    "        best_accuracy = accuracy\n",
    "        best_model = model\n",
    "    return best_accuracy, best_model\n",
    "\n",
    "def parameter_search(model_name, train_X, train_y, test_X, test_y,  estimators=[], n_samples=100,):\n",
    "            \"\"\"\n",
    "            Hyperparameter search function.\n",
    "\n",
    "            Finds the best parameters of a given model based on whichever parameters give the highest accuracy score.\n",
    "            Works with the following scikit-learn models: RandomForestClassifier, LogisticRegression, SVC and KNeighborsClassifier.\n",
    "\n",
    "            Parameters \n",
    "\n",
    "            model_name:{\"RandomForestClassifier\", \"LogisticRegression\", \"SVC\", \"KNeighborsClassifier\"}\n",
    "                Depending on the model chosen, different hyperparameters will be returned. \n",
    "                For \"RandomForestClassifier\", the n_estimators, max_depth and max_samples will be returned\n",
    "                For \"LogisticRegression\", the C will be returned\n",
    "                For \"SVC\", the C and gamma will be returned\n",
    "                For \"KNeighborsClassifier\", the n_neighbours will be returned.\n",
    "\n",
    "            train_X, train_y, test_X, test_y: numpy array\n",
    "                This will take in the training data and test data in the order of the training Xs then ys, then the test Xs then ys.\n",
    "\n",
    "            n_samples: int, default=1000\n",
    "                How many samples of each hyperparameter are required, meaning a total of (n_samples**number of hyperparameters) samples will be taken.\n",
    "\n",
    "            \"\"\"\n",
    "            # Initialise best accuracy and best model variables\n",
    "            best_accuracy = 0\n",
    "            best_model = None\n",
    "\n",
    "            # Search for different parameteres depending on the model\n",
    "            if model_name == \"RandomForestClassifier\":\n",
    "                for i in range(1, min(len(train_X), n_samples) + 1): # There can't be more samples than there are examples in data\n",
    "                    for j in range(1, 5): # Trees should remain short in random forests\n",
    "                        model = RandomForestClassifier(max_samples=i,max_depth=j)\n",
    "                        best_accuracy, best_model = update_best_model(model, train_X, train_y, test_X, test_y, best_accuracy, best_model)\n",
    "            elif model_name in [\"LogisticRegression\",\"SVC\"]:\n",
    "                half = int(n_samples/2)\n",
    "                C = random.exponential(scale=1, size=(half)) # let half of the values for C be small (roughly between 0 and 1)\n",
    "                C = np.append(C, 10*random.exponential(scale=100, size=(n_samples-half))) # let other half be big (roughly between 10 and 10000)\n",
    "                for c in C:\n",
    "                    if model_name == \"LogisticRegression\":\n",
    "                        model = LogisticRegression(C=c)\n",
    "                        best_accuracy, best_model = update_best_model(model, train_X, train_y, test_X, test_y, best_accuracy, best_model)\n",
    "                    else:\n",
    "                        for g in C:\n",
    "                            model = SVC(C=c, gamma=g)\n",
    "                            best_accuracy, best_model = update_best_model(model, train_X, train_y, test_X, test_y, best_accuracy, best_model)\n",
    "            elif model_name == \"KNeighborsClassifier\":\n",
    "                for i in range(1, min(len(train_X), n_samples) + 1): # There can't be more neighbours than there are examples in the data\n",
    "                    # Initialise and test the model on these parameters\n",
    "                    model = KNeighborsClassifier(n_neighbors=i)\n",
    "                    best_accuracy, best_model = update_best_model(model, train_X, train_y, test_X, test_y, best_accuracy, best_model)\n",
    "            elif model_name == \"VotingClassifier\":\n",
    "                total_combs_of_estimators = []\n",
    "                for i in range(2, len(estimators) + 1): # get all the different combinations of the models for ensembling\n",
    "                    total_combs_of_estimators.extend(list(itertools.combinations(estimators, i)))\n",
    "                for estimator in total_combs_of_estimators:\n",
    "                    model = VotingClassifier(estimators=estimator, voting='hard')\n",
    "                    best_accuracy, best_model = update_best_model(model, train_X, train_y, test_X, test_y, best_accuracy, best_model)\n",
    "            else:\n",
    "                print(\"Please check the documentation and specify a relevant model\")\n",
    "                return\n",
    "            print(\"The best parameters have been found for\", best_model.__class__.__name__, \"with an accuracy of\", best_accuracy, \"on the cross validation data, with parameters:\",best_model.get_params(),\"\\n\")\n",
    "            return best_model \n",
    "\n",
    "\n",
    "\n",
    "def BestModelAndParameter(train_X, train_y, valid_X, valid_y, test_X, test_y, n_samples=100):\n",
    "    \n",
    "    # initialise every model with their best parameters, using VALIDATION data not test data\n",
    "    ran_for = parameter_search(\"RandomForestClassifier\",train_X, train_y, valid_X, valid_y, n_samples=n_samples)\n",
    "    log_reg = parameter_search(\"LogisticRegression\",train_X, train_y, valid_X, valid_y, n_samples=n_samples)\n",
    "    sup_vec = parameter_search(\"SVC\",train_X, train_y, valid_X, valid_y, n_samples=n_samples)\n",
    "    K_near = parameter_search(\"KNeighborsClassifier\",train_X, train_y, valid_X, valid_y, n_samples=n_samples)\n",
    "    \n",
    "    estimators=[('rf', ran_for), ('lr', log_reg), ('svc', sup_vec), ('Knear', K_near)]\n",
    "    voting = parameter_search(\"VotingClassifier\",train_X, train_y, valid_X, valid_y,estimators=estimators)\n",
    "\n",
    "    best_accuracy = 0\n",
    "    best_model = None\n",
    "    for model in (ran_for, log_reg, sup_vec, K_near, voting):\n",
    "        best_accuracy, best_model = update_best_model(model, train_X, train_y, test_X, test_y, best_accuracy, best_model)\n",
    "        print(\"On the training data, model\", model.__class__.__name__, \"has an accuracy of:\", accuracy_score(test_y, model.predict(test_X)))\n",
    "    print(\"\\nTherefore, the best model was\", best_model.__class__.__name__, \"with an accuracy of\", best_accuracy)\n",
    "    print(\"\\nThis model has the following parameters:\", best_model.get_params())\n",
    "    return best_model\n",
    "\n",
    "model = BestModelAndParameter(train_X, train_y, valid_X, valid_y, test_X, test_y, 150)\n"
   ]
  },
  {
   "cell_type": "markdown",
   "metadata": {},
   "source": [
    "Part 5: Present your results\n",
    "\n",
    "1. It is clear that using the aboth three functions we can have the optimal model returned, ready loaded with the optimal parameters. The results of this final model are shown on the graph below."
   ]
  },
  {
   "cell_type": "code",
   "execution_count": 160,
   "metadata": {},
   "outputs": [
    {
     "output_type": "display_data",
     "data": {
      "text/plain": "<Figure size 432x288 with 1 Axes>",
      "image/svg+xml": "<?xml version=\"1.0\" encoding=\"utf-8\" standalone=\"no\"?>\r\n<!DOCTYPE svg PUBLIC \"-//W3C//DTD SVG 1.1//EN\"\r\n  \"http://www.w3.org/Graphics/SVG/1.1/DTD/svg11.dtd\">\r\n<!-- Created with matplotlib (https://matplotlib.org/) -->\r\n<svg height=\"248.518125pt\" version=\"1.1\" viewBox=\"0 0 369.379709 248.518125\" width=\"369.379709pt\" xmlns=\"http://www.w3.org/2000/svg\" xmlns:xlink=\"http://www.w3.org/1999/xlink\">\r\n <metadata>\r\n  <rdf:RDF xmlns:cc=\"http://creativecommons.org/ns#\" xmlns:dc=\"http://purl.org/dc/elements/1.1/\" xmlns:rdf=\"http://www.w3.org/1999/02/22-rdf-syntax-ns#\">\r\n   <cc:Work>\r\n    <dc:type rdf:resource=\"http://purl.org/dc/dcmitype/StillImage\"/>\r\n    <dc:date>2020-09-10T19:38:35.232734</dc:date>\r\n    <dc:format>image/svg+xml</dc:format>\r\n    <dc:creator>\r\n     <cc:Agent>\r\n      <dc:title>Matplotlib v3.3.0, https://matplotlib.org/</dc:title>\r\n     </cc:Agent>\r\n    </dc:creator>\r\n   </cc:Work>\r\n  </rdf:RDF>\r\n </metadata>\r\n <defs>\r\n  <style type=\"text/css\">*{stroke-linecap:butt;stroke-linejoin:round;}</style>\r\n </defs>\r\n <g id=\"figure_1\">\r\n  <g id=\"patch_1\">\r\n   <path d=\"M 0 248.518125 \r\nL 369.379709 248.518125 \r\nL 369.379709 0 \r\nL 0 0 \r\nz\r\n\" style=\"fill:none;\"/>\r\n  </g>\r\n  <g id=\"axes_1\">\r\n   <g id=\"patch_2\">\r\n    <path d=\"M 20.5625 224.64 \r\nL 355.3625 224.64 \r\nL 355.3625 7.2 \r\nL 20.5625 7.2 \r\nz\r\n\" style=\"fill:#ffffff;\"/>\r\n   </g>\r\n   <g id=\"PathCollection_1\">\r\n    <defs>\r\n     <path d=\"M 0 3 \r\nC 0.795609 3 1.55874 2.683901 2.12132 2.12132 \r\nC 2.683901 1.55874 3 0.795609 3 0 \r\nC 3 -0.795609 2.683901 -1.55874 2.12132 -2.12132 \r\nC 1.55874 -2.683901 0.795609 -3 0 -3 \r\nC -0.795609 -3 -1.55874 -2.683901 -2.12132 -2.12132 \r\nC -2.683901 -1.55874 -3 -0.795609 -3 0 \r\nC -3 0.795609 -2.683901 1.55874 -2.12132 2.12132 \r\nC -1.55874 2.683901 -0.795609 3 0 3 \r\nz\r\n\" id=\"md04b76433f\" style=\"stroke:#3cb44b;\"/>\r\n    </defs>\r\n    <g clip-path=\"url(#pb336370144)\">\r\n     <use style=\"fill:#3cb44b;stroke:#3cb44b;\" x=\"339.23577\" xlink:href=\"#md04b76433f\" y=\"171.069393\"/>\r\n     <use style=\"fill:#3cb44b;stroke:#3cb44b;\" x=\"323.790451\" xlink:href=\"#md04b76433f\" y=\"179.287734\"/>\r\n     <use style=\"fill:#3cb44b;stroke:#3cb44b;\" x=\"311.070777\" xlink:href=\"#md04b76433f\" y=\"162.418508\"/>\r\n     <use style=\"fill:#3cb44b;stroke:#3cb44b;\" x=\"292.899813\" xlink:href=\"#md04b76433f\" y=\"197.022049\"/>\r\n     <use style=\"fill:#3cb44b;stroke:#3cb44b;\" x=\"316.522066\" xlink:href=\"#md04b76433f\" y=\"191.398974\"/>\r\n     <use style=\"fill:#3cb44b;stroke:#3cb44b;\" x=\"340.144318\" xlink:href=\"#md04b76433f\" y=\"174.529747\"/>\r\n     <use style=\"fill:#3cb44b;stroke:#3cb44b;\" x=\"272.911754\" xlink:href=\"#md04b76433f\" y=\"121.326803\"/>\r\n     <use style=\"fill:#3cb44b;stroke:#3cb44b;\" x=\"311.070777\" xlink:href=\"#md04b76433f\" y=\"184.91081\"/>\r\n     <use style=\"fill:#3cb44b;stroke:#3cb44b;\" x=\"201.136448\" xlink:href=\"#md04b76433f\" y=\"186.208442\"/>\r\n     <use style=\"fill:#3cb44b;stroke:#3cb44b;\" x=\"250.19805\" xlink:href=\"#md04b76433f\" y=\"178.85519\"/>\r\n     <use style=\"fill:#3cb44b;stroke:#3cb44b;\" x=\"281.088687\" xlink:href=\"#md04b76433f\" y=\"190.533885\"/>\r\n     <use style=\"fill:#3cb44b;stroke:#3cb44b;\" x=\"267.460465\" xlink:href=\"#md04b76433f\" y=\"183.613177\"/>\r\n     <use style=\"fill:#3cb44b;stroke:#3cb44b;\" x=\"283.814332\" xlink:href=\"#md04b76433f\" y=\"189.236252\"/>\r\n     <use style=\"fill:#3cb44b;stroke:#3cb44b;\" x=\"261.100628\" xlink:href=\"#md04b76433f\" y=\"177.557557\"/>\r\n     <use style=\"fill:#3cb44b;stroke:#3cb44b;\" x=\"221.124508\" xlink:href=\"#md04b76433f\" y=\"190.533885\"/>\r\n     <use style=\"fill:#3cb44b;stroke:#3cb44b;\" x=\"300.168199\" xlink:href=\"#md04b76433f\" y=\"180.585367\"/>\r\n     <use style=\"fill:#3cb44b;stroke:#3cb44b;\" x=\"290.174169\" xlink:href=\"#md04b76433f\" y=\"184.045721\"/>\r\n     <use style=\"fill:#3cb44b;stroke:#3cb44b;\" x=\"289.265621\" xlink:href=\"#md04b76433f\" y=\"179.720278\"/>\r\n     <use style=\"fill:#3cb44b;stroke:#3cb44b;\" x=\"280.180139\" xlink:href=\"#md04b76433f\" y=\"193.561695\"/>\r\n    </g>\r\n   </g>\r\n   <g id=\"PathCollection_2\">\r\n    <defs>\r\n     <path d=\"M 0 3 \r\nC 0.795609 3 1.55874 2.683901 2.12132 2.12132 \r\nC 2.683901 1.55874 3 0.795609 3 0 \r\nC 3 -0.795609 2.683901 -1.55874 2.12132 -2.12132 \r\nC 1.55874 -2.683901 0.795609 -3 0 -3 \r\nC -0.795609 -3 -1.55874 -2.683901 -2.12132 -2.12132 \r\nC -2.683901 -1.55874 -3 -0.795609 -3 0 \r\nC -3 0.795609 -2.683901 1.55874 -2.12132 2.12132 \r\nC -1.55874 2.683901 -0.795609 3 0 3 \r\nz\r\n\" id=\"ma8053de3be\" style=\"stroke:#ffe119;\"/>\r\n    </defs>\r\n    <g clip-path=\"url(#pb336370144)\">\r\n     <use style=\"fill:#ffe119;stroke:#ffe119;\" x=\"153.891944\" xlink:href=\"#ma8053de3be\" y=\"207.835655\"/>\r\n     <use style=\"fill:#ffe119;stroke:#ffe119;\" x=\"182.056937\" xlink:href=\"#ma8053de3be\" y=\"196.589505\"/>\r\n     <use style=\"fill:#ffe119;stroke:#ffe119;\" x=\"157.526136\" xlink:href=\"#ma8053de3be\" y=\"206.538023\"/>\r\n     <use style=\"fill:#ffe119;stroke:#ffe119;\" x=\"157.526136\" xlink:href=\"#ma8053de3be\" y=\"203.077669\"/>\r\n     <use style=\"fill:#ffe119;stroke:#ffe119;\" x=\"245.655309\" xlink:href=\"#ma8053de3be\" y=\"214.756364\"/>\r\n     <use style=\"fill:#ffe119;stroke:#ffe119;\" x=\"213.856123\" xlink:href=\"#ma8053de3be\" y=\"183.180633\"/>\r\n     <use style=\"fill:#ffe119;stroke:#ffe119;\" x=\"120.275661\" xlink:href=\"#ma8053de3be\" y=\"208.2682\"/>\r\n     <use style=\"fill:#ffe119;stroke:#ffe119;\" x=\"153.891944\" xlink:href=\"#ma8053de3be\" y=\"212.593642\"/>\r\n     <use style=\"fill:#ffe119;stroke:#ffe119;\" x=\"131.178239\" xlink:href=\"#ma8053de3be\" y=\"206.538023\"/>\r\n     <use style=\"fill:#ffe119;stroke:#ffe119;\" x=\"219.307412\" xlink:href=\"#ma8053de3be\" y=\"88.453439\"/>\r\n     <use style=\"fill:#ffe119;stroke:#ffe119;\" x=\"184.782581\" xlink:href=\"#ma8053de3be\" y=\"213.026187\"/>\r\n     <use style=\"fill:#ffe119;stroke:#ffe119;\" x=\"91.20212\" xlink:href=\"#ma8053de3be\" y=\"166.311406\"/>\r\n     <use style=\"fill:#ffe119;stroke:#ffe119;\" x=\"131.178239\" xlink:href=\"#ma8053de3be\" y=\"197.887137\"/>\r\n     <use style=\"fill:#ffe119;stroke:#ffe119;\" x=\"131.178239\" xlink:href=\"#ma8053de3be\" y=\"176.259924\"/>\r\n     <use style=\"fill:#ffe119;stroke:#ffe119;\" x=\"186.599678\" xlink:href=\"#ma8053de3be\" y=\"189.236252\"/>\r\n     <use style=\"fill:#ffe119;stroke:#ffe119;\" x=\"89.385024\" xlink:href=\"#ma8053de3be\" y=\"169.339216\"/>\r\n     <use style=\"fill:#ffe119;stroke:#ffe119;\" x=\"166.611618\" xlink:href=\"#ma8053de3be\" y=\"189.668796\"/>\r\n     <use style=\"fill:#ffe119;stroke:#ffe119;\" x=\"106.647439\" xlink:href=\"#ma8053de3be\" y=\"163.716141\"/>\r\n     <use style=\"fill:#ffe119;stroke:#ffe119;\" x=\"131.178239\" xlink:href=\"#ma8053de3be\" y=\"165.446318\"/>\r\n     <use style=\"fill:#ffe119;stroke:#ffe119;\" x=\"154.800492\" xlink:href=\"#ma8053de3be\" y=\"149.44218\"/>\r\n     <use style=\"fill:#ffe119;stroke:#ffe119;\" x=\"170.245811\" xlink:href=\"#ma8053de3be\" y=\"180.585367\"/>\r\n     <use style=\"fill:#ffe119;stroke:#ffe119;\" x=\"189.325322\" xlink:href=\"#ma8053de3be\" y=\"179.720278\"/>\r\n     <use style=\"fill:#ffe119;stroke:#ffe119;\" x=\"88.476476\" xlink:href=\"#ma8053de3be\" y=\"197.022049\"/>\r\n     <use style=\"fill:#ffe119;stroke:#ffe119;\" x=\"74.848253\" xlink:href=\"#ma8053de3be\" y=\"93.643971\"/>\r\n     <use style=\"fill:#ffe119;stroke:#ffe119;\" x=\"171.154359\" xlink:href=\"#ma8053de3be\" y=\"150.307269\"/>\r\n     <use style=\"fill:#ffe119;stroke:#ffe119;\" x=\"102.104698\" xlink:href=\"#ma8053de3be\" y=\"139.493662\"/>\r\n     <use style=\"fill:#ffe119;stroke:#ffe119;\" x=\"131.178239\" xlink:href=\"#ma8053de3be\" y=\"195.291872\"/>\r\n     <use style=\"fill:#ffe119;stroke:#ffe119;\" x=\"35.780682\" xlink:href=\"#ma8053de3be\" y=\"190.101341\"/>\r\n     <use style=\"fill:#ffe119;stroke:#ffe119;\" x=\"107.555987\" xlink:href=\"#ma8053de3be\" y=\"191.831518\"/>\r\n     <use style=\"fill:#ffe119;stroke:#ffe119;\" x=\"193.868063\" xlink:href=\"#ma8053de3be\" y=\"107.052843\"/>\r\n     <use style=\"fill:#ffe119;stroke:#ffe119;\" x=\"123.909854\" xlink:href=\"#ma8053de3be\" y=\"107.052843\"/>\r\n     <use style=\"fill:#ffe119;stroke:#ffe119;\" x=\"73.939705\" xlink:href=\"#ma8053de3be\" y=\"151.604902\"/>\r\n     <use style=\"fill:#ffe119;stroke:#ffe119;\" x=\"162.068877\" xlink:href=\"#ma8053de3be\" y=\"63.798417\"/>\r\n     <use style=\"fill:#ffe119;stroke:#ffe119;\" x=\"130.269691\" xlink:href=\"#ma8053de3be\" y=\"161.985964\"/>\r\n     <use style=\"fill:#ffe119;stroke:#ffe119;\" x=\"127.544047\" xlink:href=\"#ma8053de3be\" y=\"69.421492\"/>\r\n    </g>\r\n   </g>\r\n   <g id=\"PathCollection_3\">\r\n    <defs>\r\n     <path d=\"M 0 3 \r\nC 0.795609 3 1.55874 2.683901 2.12132 2.12132 \r\nC 2.683901 1.55874 3 0.795609 3 0 \r\nC 3 -0.795609 2.683901 -1.55874 2.12132 -2.12132 \r\nC 1.55874 -2.683901 0.795609 -3 0 -3 \r\nC -0.795609 -3 -1.55874 -2.683901 -2.12132 -2.12132 \r\nC -2.683901 -1.55874 -3 -0.795609 -3 0 \r\nC -3 0.795609 -2.683901 1.55874 -2.12132 2.12132 \r\nC -1.55874 2.683901 -0.795609 3 0 3 \r\nz\r\n\" id=\"ma27683990b\" style=\"stroke:#4363d8;\"/>\r\n    </defs>\r\n    <g clip-path=\"url(#pb336370144)\">\r\n     <use style=\"fill:#4363d8;stroke:#4363d8;\" x=\"202.044997\" xlink:href=\"#ma27683990b\" y=\"197.022049\"/>\r\n     <use style=\"fill:#4363d8;stroke:#4363d8;\" x=\"203.862093\" xlink:href=\"#ma27683990b\" y=\"126.08479\"/>\r\n     <use style=\"fill:#4363d8;stroke:#4363d8;\" x=\"197.502256\" xlink:href=\"#ma27683990b\" y=\"155.4978\"/>\r\n     <use style=\"fill:#4363d8;stroke:#4363d8;\" x=\"178.422744\" xlink:href=\"#ma27683990b\" y=\"149.009636\"/>\r\n     <use style=\"fill:#4363d8;stroke:#4363d8;\" x=\"146.623558\" xlink:href=\"#ma27683990b\" y=\"51.254633\"/>\r\n     <use style=\"fill:#4363d8;stroke:#4363d8;\" x=\"172.062907\" xlink:href=\"#ma27683990b\" y=\"17.083636\"/>\r\n     <use style=\"fill:#4363d8;stroke:#4363d8;\" x=\"271.094657\" xlink:href=\"#ma27683990b\" y=\"41.306115\"/>\r\n     <use style=\"fill:#4363d8;stroke:#4363d8;\" x=\"146.623558\" xlink:href=\"#ma27683990b\" y=\"87.588351\"/>\r\n     <use style=\"fill:#4363d8;stroke:#4363d8;\" x=\"229.301442\" xlink:href=\"#ma27683990b\" y=\"100.997223\"/>\r\n     <use style=\"fill:#4363d8;stroke:#4363d8;\" x=\"202.953545\" xlink:href=\"#ma27683990b\" y=\"56.01262\"/>\r\n     <use style=\"fill:#4363d8;stroke:#4363d8;\" x=\"222.033056\" xlink:href=\"#ma27683990b\" y=\"86.723262\"/>\r\n     <use style=\"fill:#4363d8;stroke:#4363d8;\" x=\"260.192079\" xlink:href=\"#ma27683990b\" y=\"120.461715\"/>\r\n     <use style=\"fill:#4363d8;stroke:#4363d8;\" x=\"224.758701\" xlink:href=\"#ma27683990b\" y=\"173.232115\"/>\r\n     <use style=\"fill:#4363d8;stroke:#4363d8;\" x=\"164.794522\" xlink:href=\"#ma27683990b\" y=\"124.354613\"/>\r\n     <use style=\"fill:#4363d8;stroke:#4363d8;\" x=\"336.510126\" xlink:href=\"#ma27683990b\" y=\"182.748088\"/>\r\n     <use style=\"fill:#4363d8;stroke:#4363d8;\" x=\"156.617588\" xlink:href=\"#ma27683990b\" y=\"89.751072\"/>\r\n     <use style=\"fill:#4363d8;stroke:#4363d8;\" x=\"277.454495\" xlink:href=\"#ma27683990b\" y=\"114.406095\"/>\r\n     <use style=\"fill:#4363d8;stroke:#4363d8;\" x=\"211.130478\" xlink:href=\"#ma27683990b\" y=\"106.187754\"/>\r\n     <use style=\"fill:#4363d8;stroke:#4363d8;\" x=\"198.410804\" xlink:href=\"#ma27683990b\" y=\"109.648108\"/>\r\n     <use style=\"fill:#4363d8;stroke:#4363d8;\" x=\"267.460465\" xlink:href=\"#ma27683990b\" y=\"143.819105\"/>\r\n     <use style=\"fill:#4363d8;stroke:#4363d8;\" x=\"251.106598\" xlink:href=\"#ma27683990b\" y=\"56.445164\"/>\r\n     <use style=\"fill:#4363d8;stroke:#4363d8;\" x=\"251.106598\" xlink:href=\"#ma27683990b\" y=\"86.290718\"/>\r\n     <use style=\"fill:#4363d8;stroke:#4363d8;\" x=\"230.20999\" xlink:href=\"#ma27683990b\" y=\"143.386561\"/>\r\n    </g>\r\n   </g>\r\n   <g id=\"matplotlib.axis_1\">\r\n    <g id=\"xtick_1\">\r\n     <g id=\"line2d_1\">\r\n      <defs>\r\n       <path d=\"M 0 0 \r\nL 0 3.5 \r\n\" id=\"mb65e57e4b0\" style=\"stroke:#000000;stroke-width:0.8;\"/>\r\n      </defs>\r\n      <g>\r\n       <use style=\"stroke:#000000;stroke-width:0.8;\" x=\"33.055037\" xlink:href=\"#mb65e57e4b0\" y=\"224.64\"/>\r\n      </g>\r\n     </g>\r\n     <g id=\"text_1\">\r\n      <!-- 11.0 -->\r\n      <g transform=\"translate(21.922225 239.238438)scale(0.1 -0.1)\">\r\n       <defs>\r\n        <path d=\"M 12.40625 8.296875 \r\nL 28.515625 8.296875 \r\nL 28.515625 63.921875 \r\nL 10.984375 60.40625 \r\nL 10.984375 69.390625 \r\nL 28.421875 72.90625 \r\nL 38.28125 72.90625 \r\nL 38.28125 8.296875 \r\nL 54.390625 8.296875 \r\nL 54.390625 0 \r\nL 12.40625 0 \r\nz\r\n\" id=\"DejaVuSans-49\"/>\r\n        <path d=\"M 10.6875 12.40625 \r\nL 21 12.40625 \r\nL 21 0 \r\nL 10.6875 0 \r\nz\r\n\" id=\"DejaVuSans-46\"/>\r\n        <path d=\"M 31.78125 66.40625 \r\nQ 24.171875 66.40625 20.328125 58.90625 \r\nQ 16.5 51.421875 16.5 36.375 \r\nQ 16.5 21.390625 20.328125 13.890625 \r\nQ 24.171875 6.390625 31.78125 6.390625 \r\nQ 39.453125 6.390625 43.28125 13.890625 \r\nQ 47.125 21.390625 47.125 36.375 \r\nQ 47.125 51.421875 43.28125 58.90625 \r\nQ 39.453125 66.40625 31.78125 66.40625 \r\nz\r\nM 31.78125 74.21875 \r\nQ 44.046875 74.21875 50.515625 64.515625 \r\nQ 56.984375 54.828125 56.984375 36.375 \r\nQ 56.984375 17.96875 50.515625 8.265625 \r\nQ 44.046875 -1.421875 31.78125 -1.421875 \r\nQ 19.53125 -1.421875 13.0625 8.265625 \r\nQ 6.59375 17.96875 6.59375 36.375 \r\nQ 6.59375 54.828125 13.0625 64.515625 \r\nQ 19.53125 74.21875 31.78125 74.21875 \r\nz\r\n\" id=\"DejaVuSans-48\"/>\r\n       </defs>\r\n       <use xlink:href=\"#DejaVuSans-49\"/>\r\n       <use x=\"63.623047\" xlink:href=\"#DejaVuSans-49\"/>\r\n       <use x=\"127.246094\" xlink:href=\"#DejaVuSans-46\"/>\r\n       <use x=\"159.033203\" xlink:href=\"#DejaVuSans-48\"/>\r\n      </g>\r\n     </g>\r\n    </g>\r\n    <g id=\"xtick_2\">\r\n     <g id=\"line2d_2\">\r\n      <g>\r\n       <use style=\"stroke:#000000;stroke-width:0.8;\" x=\"78.482446\" xlink:href=\"#mb65e57e4b0\" y=\"224.64\"/>\r\n      </g>\r\n     </g>\r\n     <g id=\"text_2\">\r\n      <!-- 11.5 -->\r\n      <g transform=\"translate(67.349633 239.238438)scale(0.1 -0.1)\">\r\n       <defs>\r\n        <path d=\"M 10.796875 72.90625 \r\nL 49.515625 72.90625 \r\nL 49.515625 64.59375 \r\nL 19.828125 64.59375 \r\nL 19.828125 46.734375 \r\nQ 21.96875 47.46875 24.109375 47.828125 \r\nQ 26.265625 48.1875 28.421875 48.1875 \r\nQ 40.625 48.1875 47.75 41.5 \r\nQ 54.890625 34.8125 54.890625 23.390625 \r\nQ 54.890625 11.625 47.5625 5.09375 \r\nQ 40.234375 -1.421875 26.90625 -1.421875 \r\nQ 22.3125 -1.421875 17.546875 -0.640625 \r\nQ 12.796875 0.140625 7.71875 1.703125 \r\nL 7.71875 11.625 \r\nQ 12.109375 9.234375 16.796875 8.0625 \r\nQ 21.484375 6.890625 26.703125 6.890625 \r\nQ 35.15625 6.890625 40.078125 11.328125 \r\nQ 45.015625 15.765625 45.015625 23.390625 \r\nQ 45.015625 31 40.078125 35.4375 \r\nQ 35.15625 39.890625 26.703125 39.890625 \r\nQ 22.75 39.890625 18.8125 39.015625 \r\nQ 14.890625 38.140625 10.796875 36.28125 \r\nz\r\n\" id=\"DejaVuSans-53\"/>\r\n       </defs>\r\n       <use xlink:href=\"#DejaVuSans-49\"/>\r\n       <use x=\"63.623047\" xlink:href=\"#DejaVuSans-49\"/>\r\n       <use x=\"127.246094\" xlink:href=\"#DejaVuSans-46\"/>\r\n       <use x=\"159.033203\" xlink:href=\"#DejaVuSans-53\"/>\r\n      </g>\r\n     </g>\r\n    </g>\r\n    <g id=\"xtick_3\">\r\n     <g id=\"line2d_3\">\r\n      <g>\r\n       <use style=\"stroke:#000000;stroke-width:0.8;\" x=\"123.909854\" xlink:href=\"#mb65e57e4b0\" y=\"224.64\"/>\r\n      </g>\r\n     </g>\r\n     <g id=\"text_3\">\r\n      <!-- 12.0 -->\r\n      <g transform=\"translate(112.777042 239.238438)scale(0.1 -0.1)\">\r\n       <defs>\r\n        <path d=\"M 19.1875 8.296875 \r\nL 53.609375 8.296875 \r\nL 53.609375 0 \r\nL 7.328125 0 \r\nL 7.328125 8.296875 \r\nQ 12.9375 14.109375 22.625 23.890625 \r\nQ 32.328125 33.6875 34.8125 36.53125 \r\nQ 39.546875 41.84375 41.421875 45.53125 \r\nQ 43.3125 49.21875 43.3125 52.78125 \r\nQ 43.3125 58.59375 39.234375 62.25 \r\nQ 35.15625 65.921875 28.609375 65.921875 \r\nQ 23.96875 65.921875 18.8125 64.3125 \r\nQ 13.671875 62.703125 7.8125 59.421875 \r\nL 7.8125 69.390625 \r\nQ 13.765625 71.78125 18.9375 73 \r\nQ 24.125 74.21875 28.421875 74.21875 \r\nQ 39.75 74.21875 46.484375 68.546875 \r\nQ 53.21875 62.890625 53.21875 53.421875 \r\nQ 53.21875 48.921875 51.53125 44.890625 \r\nQ 49.859375 40.875 45.40625 35.40625 \r\nQ 44.1875 33.984375 37.640625 27.21875 \r\nQ 31.109375 20.453125 19.1875 8.296875 \r\nz\r\n\" id=\"DejaVuSans-50\"/>\r\n       </defs>\r\n       <use xlink:href=\"#DejaVuSans-49\"/>\r\n       <use x=\"63.623047\" xlink:href=\"#DejaVuSans-50\"/>\r\n       <use x=\"127.246094\" xlink:href=\"#DejaVuSans-46\"/>\r\n       <use x=\"159.033203\" xlink:href=\"#DejaVuSans-48\"/>\r\n      </g>\r\n     </g>\r\n    </g>\r\n    <g id=\"xtick_4\">\r\n     <g id=\"line2d_4\">\r\n      <g>\r\n       <use style=\"stroke:#000000;stroke-width:0.8;\" x=\"169.337263\" xlink:href=\"#mb65e57e4b0\" y=\"224.64\"/>\r\n      </g>\r\n     </g>\r\n     <g id=\"text_4\">\r\n      <!-- 12.5 -->\r\n      <g transform=\"translate(158.20445 239.238438)scale(0.1 -0.1)\">\r\n       <use xlink:href=\"#DejaVuSans-49\"/>\r\n       <use x=\"63.623047\" xlink:href=\"#DejaVuSans-50\"/>\r\n       <use x=\"127.246094\" xlink:href=\"#DejaVuSans-46\"/>\r\n       <use x=\"159.033203\" xlink:href=\"#DejaVuSans-53\"/>\r\n      </g>\r\n     </g>\r\n    </g>\r\n    <g id=\"xtick_5\">\r\n     <g id=\"line2d_5\">\r\n      <g>\r\n       <use style=\"stroke:#000000;stroke-width:0.8;\" x=\"214.764671\" xlink:href=\"#mb65e57e4b0\" y=\"224.64\"/>\r\n      </g>\r\n     </g>\r\n     <g id=\"text_5\">\r\n      <!-- 13.0 -->\r\n      <g transform=\"translate(203.631858 239.238438)scale(0.1 -0.1)\">\r\n       <defs>\r\n        <path d=\"M 40.578125 39.3125 \r\nQ 47.65625 37.796875 51.625 33 \r\nQ 55.609375 28.21875 55.609375 21.1875 \r\nQ 55.609375 10.40625 48.1875 4.484375 \r\nQ 40.765625 -1.421875 27.09375 -1.421875 \r\nQ 22.515625 -1.421875 17.65625 -0.515625 \r\nQ 12.796875 0.390625 7.625 2.203125 \r\nL 7.625 11.71875 \r\nQ 11.71875 9.328125 16.59375 8.109375 \r\nQ 21.484375 6.890625 26.8125 6.890625 \r\nQ 36.078125 6.890625 40.9375 10.546875 \r\nQ 45.796875 14.203125 45.796875 21.1875 \r\nQ 45.796875 27.640625 41.28125 31.265625 \r\nQ 36.765625 34.90625 28.71875 34.90625 \r\nL 20.21875 34.90625 \r\nL 20.21875 43.015625 \r\nL 29.109375 43.015625 \r\nQ 36.375 43.015625 40.234375 45.921875 \r\nQ 44.09375 48.828125 44.09375 54.296875 \r\nQ 44.09375 59.90625 40.109375 62.90625 \r\nQ 36.140625 65.921875 28.71875 65.921875 \r\nQ 24.65625 65.921875 20.015625 65.03125 \r\nQ 15.375 64.15625 9.8125 62.3125 \r\nL 9.8125 71.09375 \r\nQ 15.4375 72.65625 20.34375 73.4375 \r\nQ 25.25 74.21875 29.59375 74.21875 \r\nQ 40.828125 74.21875 47.359375 69.109375 \r\nQ 53.90625 64.015625 53.90625 55.328125 \r\nQ 53.90625 49.265625 50.4375 45.09375 \r\nQ 46.96875 40.921875 40.578125 39.3125 \r\nz\r\n\" id=\"DejaVuSans-51\"/>\r\n       </defs>\r\n       <use xlink:href=\"#DejaVuSans-49\"/>\r\n       <use x=\"63.623047\" xlink:href=\"#DejaVuSans-51\"/>\r\n       <use x=\"127.246094\" xlink:href=\"#DejaVuSans-46\"/>\r\n       <use x=\"159.033203\" xlink:href=\"#DejaVuSans-48\"/>\r\n      </g>\r\n     </g>\r\n    </g>\r\n    <g id=\"xtick_6\">\r\n     <g id=\"line2d_6\">\r\n      <g>\r\n       <use style=\"stroke:#000000;stroke-width:0.8;\" x=\"260.192079\" xlink:href=\"#mb65e57e4b0\" y=\"224.64\"/>\r\n      </g>\r\n     </g>\r\n     <g id=\"text_6\">\r\n      <!-- 13.5 -->\r\n      <g transform=\"translate(249.059267 239.238438)scale(0.1 -0.1)\">\r\n       <use xlink:href=\"#DejaVuSans-49\"/>\r\n       <use x=\"63.623047\" xlink:href=\"#DejaVuSans-51\"/>\r\n       <use x=\"127.246094\" xlink:href=\"#DejaVuSans-46\"/>\r\n       <use x=\"159.033203\" xlink:href=\"#DejaVuSans-53\"/>\r\n      </g>\r\n     </g>\r\n    </g>\r\n    <g id=\"xtick_7\">\r\n     <g id=\"line2d_7\">\r\n      <g>\r\n       <use style=\"stroke:#000000;stroke-width:0.8;\" x=\"305.619488\" xlink:href=\"#mb65e57e4b0\" y=\"224.64\"/>\r\n      </g>\r\n     </g>\r\n     <g id=\"text_7\">\r\n      <!-- 14.0 -->\r\n      <g transform=\"translate(294.486675 239.238438)scale(0.1 -0.1)\">\r\n       <defs>\r\n        <path d=\"M 37.796875 64.3125 \r\nL 12.890625 25.390625 \r\nL 37.796875 25.390625 \r\nz\r\nM 35.203125 72.90625 \r\nL 47.609375 72.90625 \r\nL 47.609375 25.390625 \r\nL 58.015625 25.390625 \r\nL 58.015625 17.1875 \r\nL 47.609375 17.1875 \r\nL 47.609375 0 \r\nL 37.796875 0 \r\nL 37.796875 17.1875 \r\nL 4.890625 17.1875 \r\nL 4.890625 26.703125 \r\nz\r\n\" id=\"DejaVuSans-52\"/>\r\n       </defs>\r\n       <use xlink:href=\"#DejaVuSans-49\"/>\r\n       <use x=\"63.623047\" xlink:href=\"#DejaVuSans-52\"/>\r\n       <use x=\"127.246094\" xlink:href=\"#DejaVuSans-46\"/>\r\n       <use x=\"159.033203\" xlink:href=\"#DejaVuSans-48\"/>\r\n      </g>\r\n     </g>\r\n    </g>\r\n    <g id=\"xtick_8\">\r\n     <g id=\"line2d_8\">\r\n      <g>\r\n       <use style=\"stroke:#000000;stroke-width:0.8;\" x=\"351.046896\" xlink:href=\"#mb65e57e4b0\" y=\"224.64\"/>\r\n      </g>\r\n     </g>\r\n     <g id=\"text_8\">\r\n      <!-- 14.5 -->\r\n      <g transform=\"translate(339.914084 239.238438)scale(0.1 -0.1)\">\r\n       <use xlink:href=\"#DejaVuSans-49\"/>\r\n       <use x=\"63.623047\" xlink:href=\"#DejaVuSans-52\"/>\r\n       <use x=\"127.246094\" xlink:href=\"#DejaVuSans-46\"/>\r\n       <use x=\"159.033203\" xlink:href=\"#DejaVuSans-53\"/>\r\n      </g>\r\n     </g>\r\n    </g>\r\n   </g>\r\n   <g id=\"matplotlib.axis_2\">\r\n    <g id=\"ytick_1\">\r\n     <g id=\"line2d_9\">\r\n      <defs>\r\n       <path d=\"M 0 0 \r\nL -3.5 0 \r\n\" id=\"me7c02fd8a7\" style=\"stroke:#000000;stroke-width:0.8;\"/>\r\n      </defs>\r\n      <g>\r\n       <use style=\"stroke:#000000;stroke-width:0.8;\" x=\"20.5625\" xlink:href=\"#me7c02fd8a7\" y=\"212.161098\"/>\r\n      </g>\r\n     </g>\r\n     <g id=\"text_9\">\r\n      <!-- 1 -->\r\n      <g transform=\"translate(7.2 215.960317)scale(0.1 -0.1)\">\r\n       <use xlink:href=\"#DejaVuSans-49\"/>\r\n      </g>\r\n     </g>\r\n    </g>\r\n    <g id=\"ytick_2\">\r\n     <g id=\"line2d_10\">\r\n      <g>\r\n       <use style=\"stroke:#000000;stroke-width:0.8;\" x=\"20.5625\" xlink:href=\"#me7c02fd8a7\" y=\"168.906672\"/>\r\n      </g>\r\n     </g>\r\n     <g id=\"text_10\">\r\n      <!-- 2 -->\r\n      <g transform=\"translate(7.2 172.705891)scale(0.1 -0.1)\">\r\n       <use xlink:href=\"#DejaVuSans-50\"/>\r\n      </g>\r\n     </g>\r\n    </g>\r\n    <g id=\"ytick_3\">\r\n     <g id=\"line2d_11\">\r\n      <g>\r\n       <use style=\"stroke:#000000;stroke-width:0.8;\" x=\"20.5625\" xlink:href=\"#me7c02fd8a7\" y=\"125.652246\"/>\r\n      </g>\r\n     </g>\r\n     <g id=\"text_11\">\r\n      <!-- 3 -->\r\n      <g transform=\"translate(7.2 129.451465)scale(0.1 -0.1)\">\r\n       <use xlink:href=\"#DejaVuSans-51\"/>\r\n      </g>\r\n     </g>\r\n    </g>\r\n    <g id=\"ytick_4\">\r\n     <g id=\"line2d_12\">\r\n      <g>\r\n       <use style=\"stroke:#000000;stroke-width:0.8;\" x=\"20.5625\" xlink:href=\"#me7c02fd8a7\" y=\"82.39782\"/>\r\n      </g>\r\n     </g>\r\n     <g id=\"text_12\">\r\n      <!-- 4 -->\r\n      <g transform=\"translate(7.2 86.197039)scale(0.1 -0.1)\">\r\n       <use xlink:href=\"#DejaVuSans-52\"/>\r\n      </g>\r\n     </g>\r\n    </g>\r\n    <g id=\"ytick_5\">\r\n     <g id=\"line2d_13\">\r\n      <g>\r\n       <use style=\"stroke:#000000;stroke-width:0.8;\" x=\"20.5625\" xlink:href=\"#me7c02fd8a7\" y=\"39.143394\"/>\r\n      </g>\r\n     </g>\r\n     <g id=\"text_13\">\r\n      <!-- 5 -->\r\n      <g transform=\"translate(7.2 42.942612)scale(0.1 -0.1)\">\r\n       <use xlink:href=\"#DejaVuSans-53\"/>\r\n      </g>\r\n     </g>\r\n    </g>\r\n   </g>\r\n   <g id=\"patch_3\">\r\n    <path d=\"M 20.5625 224.64 \r\nL 20.5625 7.2 \r\n\" style=\"fill:none;stroke:#000000;stroke-linecap:square;stroke-linejoin:miter;stroke-width:0.8;\"/>\r\n   </g>\r\n   <g id=\"patch_4\">\r\n    <path d=\"M 355.3625 224.64 \r\nL 355.3625 7.2 \r\n\" style=\"fill:none;stroke:#000000;stroke-linecap:square;stroke-linejoin:miter;stroke-width:0.8;\"/>\r\n   </g>\r\n   <g id=\"patch_5\">\r\n    <path d=\"M 20.5625 224.64 \r\nL 355.3625 224.64 \r\n\" style=\"fill:none;stroke:#000000;stroke-linecap:square;stroke-linejoin:miter;stroke-width:0.8;\"/>\r\n   </g>\r\n   <g id=\"patch_6\">\r\n    <path d=\"M 20.5625 7.2 \r\nL 355.3625 7.2 \r\n\" style=\"fill:none;stroke:#000000;stroke-linecap:square;stroke-linejoin:miter;stroke-width:0.8;\"/>\r\n   </g>\r\n  </g>\r\n </g>\r\n <defs>\r\n  <clipPath id=\"pb336370144\">\r\n   <rect height=\"217.44\" width=\"334.8\" x=\"20.5625\" y=\"7.2\"/>\r\n  </clipPath>\r\n </defs>\r\n</svg>\r\n",
      "image/png": "[encoded data removed]"
     },
     "metadata": {
      "needs_background": "light"
     }
    },
    {
     "output_type": "error",
     "ename": "ValueError",
     "evalue": "X has 2 features per sample; expecting 13",
     "traceback": [
      "\u001b[1;31m---------------------------------------------------------------------------\u001b[0m",
      "\u001b[1;31mValueError\u001b[0m                                Traceback (most recent call last)",
      "\u001b[1;32m<ipython-input-160-2e26dd211e77>\u001b[0m in \u001b[0;36m<module>\u001b[1;34m\u001b[0m\n\u001b[0;32m      5\u001b[0m \u001b[0maccuracy_score\u001b[0m\u001b[1;33m(\u001b[0m\u001b[0mmodel\u001b[0m\u001b[1;33m.\u001b[0m\u001b[0mpredict\u001b[0m\u001b[1;33m(\u001b[0m\u001b[0mtest_X\u001b[0m\u001b[1;33m)\u001b[0m\u001b[1;33m,\u001b[0m \u001b[0mtest_y\u001b[0m\u001b[1;33m)\u001b[0m\u001b[1;33m\u001b[0m\u001b[1;33m\u001b[0m\u001b[0m\n\u001b[0;32m      6\u001b[0m \u001b[0mshow_data\u001b[0m\u001b[1;33m(\u001b[0m\u001b[0mtest_X\u001b[0m\u001b[1;33m,\u001b[0m \u001b[0mtest_y\u001b[0m\u001b[1;33m)\u001b[0m\u001b[1;33m\u001b[0m\u001b[1;33m\u001b[0m\u001b[0m\n\u001b[1;32m----> 7\u001b[1;33m \u001b[0mvisualise_predictions\u001b[0m\u001b[1;33m(\u001b[0m\u001b[0mmodel\u001b[0m\u001b[1;33m.\u001b[0m\u001b[0mpredict\u001b[0m\u001b[1;33m,\u001b[0m \u001b[0mtest_X\u001b[0m\u001b[1;33m,\u001b[0m \u001b[0mtest_y\u001b[0m\u001b[1;33m)\u001b[0m\u001b[1;33m\u001b[0m\u001b[1;33m\u001b[0m\u001b[0m\n\u001b[0m",
      "\u001b[1;32mc:\\Users\\gobli\\Documents\\AI CORE\\utils.py\u001b[0m in \u001b[0;36mvisualise_predictions\u001b[1;34m(H, X, Y, n)\u001b[0m\n\u001b[0;32m     65\u001b[0m     \u001b[1;32mfor\u001b[0m \u001b[0mx1_idx\u001b[0m\u001b[1;33m,\u001b[0m \u001b[0mx1\u001b[0m \u001b[1;32min\u001b[0m \u001b[0menumerate\u001b[0m\u001b[1;33m(\u001b[0m\u001b[0mnp\u001b[0m\u001b[1;33m.\u001b[0m\u001b[0mlinspace\u001b[0m\u001b[1;33m(\u001b[0m\u001b[0mxmin\u001b[0m\u001b[1;33m,\u001b[0m \u001b[0mxmax\u001b[0m\u001b[1;33m,\u001b[0m \u001b[0mn\u001b[0m\u001b[1;33m)\u001b[0m\u001b[1;33m)\u001b[0m\u001b[1;33m:\u001b[0m \u001b[1;31m# for each column\u001b[0m\u001b[1;33m\u001b[0m\u001b[1;33m\u001b[0m\u001b[0m\n\u001b[0;32m     66\u001b[0m         \u001b[1;32mfor\u001b[0m \u001b[0mx2_idx\u001b[0m\u001b[1;33m,\u001b[0m \u001b[0mx2\u001b[0m \u001b[1;32min\u001b[0m \u001b[0menumerate\u001b[0m\u001b[1;33m(\u001b[0m\u001b[0mnp\u001b[0m\u001b[1;33m.\u001b[0m\u001b[0mlinspace\u001b[0m\u001b[1;33m(\u001b[0m\u001b[0mymin\u001b[0m\u001b[1;33m,\u001b[0m \u001b[0mymax\u001b[0m\u001b[1;33m,\u001b[0m \u001b[0mn\u001b[0m\u001b[1;33m)\u001b[0m\u001b[1;33m)\u001b[0m\u001b[1;33m:\u001b[0m \u001b[1;31m# for each row\u001b[0m\u001b[1;33m\u001b[0m\u001b[1;33m\u001b[0m\u001b[0m\n\u001b[1;32m---> 67\u001b[1;33m             \u001b[0mh\u001b[0m \u001b[1;33m=\u001b[0m \u001b[0mH\u001b[0m\u001b[1;33m(\u001b[0m\u001b[0mnp\u001b[0m\u001b[1;33m.\u001b[0m\u001b[0marray\u001b[0m\u001b[1;33m(\u001b[0m\u001b[1;33m[\u001b[0m\u001b[1;33m[\u001b[0m\u001b[0mx1\u001b[0m\u001b[1;33m,\u001b[0m \u001b[0mx2\u001b[0m\u001b[1;33m]\u001b[0m\u001b[1;33m]\u001b[0m\u001b[1;33m)\u001b[0m\u001b[1;33m)\u001b[0m\u001b[1;33m.\u001b[0m\u001b[0mastype\u001b[0m\u001b[1;33m(\u001b[0m\u001b[0mint\u001b[0m\u001b[1;33m)\u001b[0m\u001b[1;33m[\u001b[0m\u001b[1;36m0\u001b[0m\u001b[1;33m]\u001b[0m\u001b[1;33m\u001b[0m\u001b[1;33m\u001b[0m\u001b[0m\n\u001b[0m\u001b[0;32m     68\u001b[0m             \u001b[0mmeshgrid\u001b[0m\u001b[1;33m[\u001b[0m\u001b[0mn\u001b[0m\u001b[1;33m-\u001b[0m\u001b[1;36m1\u001b[0m\u001b[1;33m-\u001b[0m\u001b[0mx2_idx\u001b[0m\u001b[1;33m,\u001b[0m \u001b[0mx1_idx\u001b[0m\u001b[1;33m]\u001b[0m \u001b[1;33m=\u001b[0m \u001b[0mh\u001b[0m \u001b[1;31m# axis 0 is the vertical direction starting from the top and increasing downward\u001b[0m\u001b[1;33m\u001b[0m\u001b[1;33m\u001b[0m\u001b[0m\n\u001b[0;32m     69\u001b[0m     \u001b[1;32mif\u001b[0m \u001b[0mY\u001b[0m \u001b[1;32mis\u001b[0m \u001b[1;32mnot\u001b[0m \u001b[1;32mNone\u001b[0m\u001b[1;33m:\u001b[0m\u001b[1;33m\u001b[0m\u001b[1;33m\u001b[0m\u001b[0m\n",
      "\u001b[1;32m~\\AppData\\Local\\Programs\\Python\\Python38-32\\lib\\site-packages\\sklearn\\linear_model\\_base.py\u001b[0m in \u001b[0;36mpredict\u001b[1;34m(self, X)\u001b[0m\n\u001b[0;32m    305\u001b[0m             \u001b[0mPredicted\u001b[0m \u001b[1;32mclass\u001b[0m \u001b[0mlabel\u001b[0m \u001b[0mper\u001b[0m \u001b[0msample\u001b[0m\u001b[1;33m.\u001b[0m\u001b[1;33m\u001b[0m\u001b[1;33m\u001b[0m\u001b[0m\n\u001b[0;32m    306\u001b[0m         \"\"\"\n\u001b[1;32m--> 307\u001b[1;33m         \u001b[0mscores\u001b[0m \u001b[1;33m=\u001b[0m \u001b[0mself\u001b[0m\u001b[1;33m.\u001b[0m\u001b[0mdecision_function\u001b[0m\u001b[1;33m(\u001b[0m\u001b[0mX\u001b[0m\u001b[1;33m)\u001b[0m\u001b[1;33m\u001b[0m\u001b[1;33m\u001b[0m\u001b[0m\n\u001b[0m\u001b[0;32m    308\u001b[0m         \u001b[1;32mif\u001b[0m \u001b[0mlen\u001b[0m\u001b[1;33m(\u001b[0m\u001b[0mscores\u001b[0m\u001b[1;33m.\u001b[0m\u001b[0mshape\u001b[0m\u001b[1;33m)\u001b[0m \u001b[1;33m==\u001b[0m \u001b[1;36m1\u001b[0m\u001b[1;33m:\u001b[0m\u001b[1;33m\u001b[0m\u001b[1;33m\u001b[0m\u001b[0m\n\u001b[0;32m    309\u001b[0m             \u001b[0mindices\u001b[0m \u001b[1;33m=\u001b[0m \u001b[1;33m(\u001b[0m\u001b[0mscores\u001b[0m \u001b[1;33m>\u001b[0m \u001b[1;36m0\u001b[0m\u001b[1;33m)\u001b[0m\u001b[1;33m.\u001b[0m\u001b[0mastype\u001b[0m\u001b[1;33m(\u001b[0m\u001b[0mnp\u001b[0m\u001b[1;33m.\u001b[0m\u001b[0mint\u001b[0m\u001b[1;33m)\u001b[0m\u001b[1;33m\u001b[0m\u001b[1;33m\u001b[0m\u001b[0m\n",
      "\u001b[1;32m~\\AppData\\Local\\Programs\\Python\\Python38-32\\lib\\site-packages\\sklearn\\linear_model\\_base.py\u001b[0m in \u001b[0;36mdecision_function\u001b[1;34m(self, X)\u001b[0m\n\u001b[0;32m    284\u001b[0m         \u001b[0mn_features\u001b[0m \u001b[1;33m=\u001b[0m \u001b[0mself\u001b[0m\u001b[1;33m.\u001b[0m\u001b[0mcoef_\u001b[0m\u001b[1;33m.\u001b[0m\u001b[0mshape\u001b[0m\u001b[1;33m[\u001b[0m\u001b[1;36m1\u001b[0m\u001b[1;33m]\u001b[0m\u001b[1;33m\u001b[0m\u001b[1;33m\u001b[0m\u001b[0m\n\u001b[0;32m    285\u001b[0m         \u001b[1;32mif\u001b[0m \u001b[0mX\u001b[0m\u001b[1;33m.\u001b[0m\u001b[0mshape\u001b[0m\u001b[1;33m[\u001b[0m\u001b[1;36m1\u001b[0m\u001b[1;33m]\u001b[0m \u001b[1;33m!=\u001b[0m \u001b[0mn_features\u001b[0m\u001b[1;33m:\u001b[0m\u001b[1;33m\u001b[0m\u001b[1;33m\u001b[0m\u001b[0m\n\u001b[1;32m--> 286\u001b[1;33m             raise ValueError(\"X has %d features per sample; expecting %d\"\n\u001b[0m\u001b[0;32m    287\u001b[0m                              % (X.shape[1], n_features))\n\u001b[0;32m    288\u001b[0m \u001b[1;33m\u001b[0m\u001b[0m\n",
      "\u001b[1;31mValueError\u001b[0m: X has 2 features per sample; expecting 13"
     ]
    }
   ],
   "source": [
    "import sys\n",
    "sys.path.append('..')\n",
    "from utils import get_classification_data, show_data, visualise_predictions, colors\n",
    "\n",
    "accuracy_score(model.predict(test_X), test_y)\n",
    "show_data(test_X, test_y)\n",
    "visualise_predictions(model.predict, test_X, test_y)"
   ]
  },
  {
   "cell_type": "markdown",
   "metadata": {},
   "source": [
    "Part 5 (continued):\n",
    "\n",
    "2. It seems that K-nearest neighbours consintently performs the worst, with support vector machines coming in second worst. Looking at their performance on the validation data however, it seems that they can achieve accuracies near 90%, which means that these models are overfitting to the training dataand failing to generalise to new examples. Even with the validation data, K-nearest neighbours performs the worst, and this may be due to the nature of data. K-nearest works best with data that is in clear clusters, but from the graph above, there seems to be a decent amount of mix-up between clusters. Logistic Regression and Random Forests seem to be performing the best on the data, sugessting that the data is more suited for them.\n",
    "\n",
    "3. The best permutation found was Logistic Regression with an accuracy of 93.5% and a C parameter value of 0.8565666086900728 using the L2 norm. Since larger values of C indicate weaker regularistion, a value slightly below 1 suggests a slightly strong use of regularistion was the best. This model generalises very well, as it had a higher accuracy on the test data than on the validation data, whereas other models like Random Forests had a perfect accuracy on the validation data but much lower accuracy on test data. This suggested a good balance between variance and bias with this Logistic Regression model."
   ]
  },
  {
   "cell_type": "markdown",
   "metadata": {},
   "source": [
    "Part 6: \"A stakeholder asks you which features most affect the response variable (output). Describe how you would organise a test to determine this.\"\n",
    "\n",
    "I would test this by manipulating the input data for the models, such that all the Xs for one feature are set to zero, and then repeating this until every feature has had a chance to be set to zero. I would then compare which result ends up with the biggest difference from the original result which had all features included. This feature when set to zero that correspends to the biggest difference would therefore be the feature that has the greatest influence over the response variable. "
   ]
  }
 ]
}